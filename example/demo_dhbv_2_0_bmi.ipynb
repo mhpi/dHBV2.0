{
 "cells": [
  {
   "cell_type": "markdown",
   "metadata": {},
   "source": [
    "# Forward $\\delta$ HBV 2.0UH with BMI\n",
    "\n",
    "\n",
    "Notes:\n",
    "- This example uses a subset of AORC forcings that can be downloaded from S3 here.\n",
    "\n",
    "- An environment can be set up with either pip or conda using `./envs/requirements.txt` or `./envs/ngen_env.yaml`, respectively.\n"
   ]
  },
  {
   "cell_type": "code",
   "execution_count": null,
   "metadata": {},
   "outputs": [],
   "source": []
  }
 ],
 "metadata": {
  "language_info": {
   "name": "python"
  }
 },
 "nbformat": 4,
 "nbformat_minor": 2
}
